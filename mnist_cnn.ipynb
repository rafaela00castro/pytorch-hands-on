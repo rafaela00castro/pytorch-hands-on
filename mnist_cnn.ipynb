{
  "nbformat": 4,
  "nbformat_minor": 0,
  "metadata": {
    "colab": {
      "name": "mnist_cnn.ipynb",
      "version": "0.3.2",
      "provenance": [],
      "collapsed_sections": [],
      "include_colab_link": true
    },
    "kernelspec": {
      "name": "python3",
      "display_name": "Python 3"
    },
    "accelerator": "GPU"
  },
  "cells": [
    {
      "cell_type": "markdown",
      "metadata": {
        "id": "view-in-github",
        "colab_type": "text"
      },
      "source": [
        "<a href=\"https://colab.research.google.com/github/rafaela00castro/pytorch-hands-on/blob/master/mnist_cnn.ipynb\" target=\"_parent\"><img src=\"https://colab.research.google.com/assets/colab-badge.svg\" alt=\"Open In Colab\"/></a>"
      ]
    },
    {
      "metadata": {
        "id": "YXx7qGH1_m8X",
        "colab_type": "text"
      },
      "cell_type": "markdown",
      "source": [
        "# Hands-on \n",
        "\n"
      ]
    },
    {
      "metadata": {
        "id": "oM1ciJcz3_G9",
        "colab_type": "text"
      },
      "cell_type": "markdown",
      "source": [
        "\n",
        "<img src=\"https://raw.githubusercontent.com/GokuMohandas/practicalAI/master/images/pytorch.png\" width=250>"
      ]
    },
    {
      "metadata": {
        "id": "sVF3f5sdAdMa",
        "colab_type": "text"
      },
      "cell_type": "markdown",
      "source": [
        "> ### Machine Learning course / PPCIC @ CEFET-RJ \n",
        "> Rafaela Castro  (<rafaela.nascimento@eic.cefet-rj.br>) - April/2019\n",
        "\n",
        "---\n"
      ]
    },
    {
      "metadata": {
        "id": "vsPuFfY5Bk7l",
        "colab_type": "text"
      },
      "cell_type": "markdown",
      "source": [
        "## Images classification with Convolutional Neural Networks (CNN)"
      ]
    },
    {
      "metadata": {
        "id": "Ka7_bCb8B3aJ",
        "colab_type": "text"
      },
      "cell_type": "markdown",
      "source": [
        "We will train a CNN to classify images from MNIST dataset, which is a hand-written digit dataset. The images are of size 1x32x32, i.e. 1-channel grey levels images."
      ]
    },
    {
      "metadata": {
        "id": "nBQbts5NTCVV",
        "colab_type": "text"
      },
      "cell_type": "markdown",
      "source": [
        "First of all, let's check the configuration of Colab's processor."
      ]
    },
    {
      "metadata": {
        "id": "3EPevvl7SRn8",
        "colab_type": "code",
        "outputId": "9249a82c-167c-40fe-c8d3-db28213b74eb",
        "colab": {
          "base_uri": "https://localhost:8080/",
          "height": 474
        }
      },
      "cell_type": "code",
      "source": [
        "!lscpu # cpu"
      ],
      "execution_count": 1,
      "outputs": [
        {
          "output_type": "stream",
          "text": [
            "Architecture:        x86_64\n",
            "CPU op-mode(s):      32-bit, 64-bit\n",
            "Byte Order:          Little Endian\n",
            "CPU(s):              2\n",
            "On-line CPU(s) list: 0,1\n",
            "Thread(s) per core:  2\n",
            "Core(s) per socket:  1\n",
            "Socket(s):           1\n",
            "NUMA node(s):        1\n",
            "Vendor ID:           GenuineIntel\n",
            "CPU family:          6\n",
            "Model:               79\n",
            "Model name:          Intel(R) Xeon(R) CPU @ 2.20GHz\n",
            "Stepping:            0\n",
            "CPU MHz:             2200.000\n",
            "BogoMIPS:            4400.00\n",
            "Hypervisor vendor:   KVM\n",
            "Virtualization type: full\n",
            "L1d cache:           32K\n",
            "L1i cache:           32K\n",
            "L2 cache:            256K\n",
            "L3 cache:            56320K\n",
            "NUMA node0 CPU(s):   0,1\n",
            "Flags:               fpu vme de pse tsc msr pae mce cx8 apic sep mtrr pge mca cmov pat pse36 clflush mmx fxsr sse sse2 ss ht syscall nx pdpe1gb rdtscp lm constant_tsc rep_good nopl xtopology nonstop_tsc cpuid tsc_known_freq pni pclmulqdq ssse3 fma cx16 pcid sse4_1 sse4_2 x2apic movbe popcnt aes xsave avx f16c rdrand hypervisor lahf_lm abm 3dnowprefetch invpcid_single pti ssbd ibrs ibpb stibp fsgsbase tsc_adjust bmi1 hle avx2 smep bmi2 erms invpcid rtm rdseed adx smap xsaveopt arat arch_capabilities\n"
          ],
          "name": "stdout"
        }
      ]
    },
    {
      "metadata": {
        "id": "nqbaOBht4Ndu",
        "colab_type": "code",
        "colab": {
          "base_uri": "https://localhost:8080/",
          "height": 326
        },
        "outputId": "df063923-51e6-444d-eeb7-9ca56d2c32f4"
      },
      "cell_type": "code",
      "source": [
        "!nvidia-smi # gpu"
      ],
      "execution_count": 2,
      "outputs": [
        {
          "output_type": "stream",
          "text": [
            "Thu Apr 18 14:51:46 2019       \n",
            "+-----------------------------------------------------------------------------+\n",
            "| NVIDIA-SMI 418.56       Driver Version: 410.79       CUDA Version: 10.0     |\n",
            "|-------------------------------+----------------------+----------------------+\n",
            "| GPU  Name        Persistence-M| Bus-Id        Disp.A | Volatile Uncorr. ECC |\n",
            "| Fan  Temp  Perf  Pwr:Usage/Cap|         Memory-Usage | GPU-Util  Compute M. |\n",
            "|===============================+======================+======================|\n",
            "|   0  Tesla K80           Off  | 00000000:00:04.0 Off |                    0 |\n",
            "| N/A   72C    P8    33W / 149W |      0MiB / 11441MiB |      0%      Default |\n",
            "+-------------------------------+----------------------+----------------------+\n",
            "                                                                               \n",
            "+-----------------------------------------------------------------------------+\n",
            "| Processes:                                                       GPU Memory |\n",
            "|  GPU       PID   Type   Process name                             Usage      |\n",
            "|=============================================================================|\n",
            "|  No running processes found                                                 |\n",
            "+-----------------------------------------------------------------------------+\n"
          ],
          "name": "stdout"
        }
      ]
    },
    {
      "metadata": {
        "id": "7lL-EJUzFQaG",
        "colab_type": "text"
      },
      "cell_type": "markdown",
      "source": [
        "### Install Pytorch\n",
        "\n",
        "Since January/19, Colab supports PyTorch natively. So, you do not need to run the code below.\n",
        "\n",
        "`!pip install torch torchvision`"
      ]
    },
    {
      "metadata": {
        "id": "gwsuldwpDwoB",
        "colab_type": "text"
      },
      "cell_type": "markdown",
      "source": [
        "### Import libraries"
      ]
    },
    {
      "metadata": {
        "id": "JjGLBbd5D4hW",
        "colab_type": "code",
        "colab": {}
      },
      "cell_type": "code",
      "source": [
        "import numpy as np\n",
        "import matplotlib.pyplot as plt\n",
        "\n",
        "import torch\n",
        "import torch.nn as nn\n",
        "import torch.nn.functional as F\n",
        "import torch.optim as optim\n",
        "from torch.utils.data import DataLoader\n",
        "\n",
        "from torchvision import datasets, transforms\n",
        "from torchvision.utils import make_grid"
      ],
      "execution_count": 0,
      "outputs": []
    },
    {
      "metadata": {
        "id": "rldQVQfw_eS7",
        "colab_type": "text"
      },
      "cell_type": "markdown",
      "source": [
        "### Device configuration"
      ]
    },
    {
      "metadata": {
        "id": "hogdEIza_gbK",
        "colab_type": "code",
        "colab": {}
      },
      "cell_type": "code",
      "source": [
        "device = torch.device('cuda:0' if torch.cuda.is_available() else 'cpu')"
      ],
      "execution_count": 0,
      "outputs": []
    },
    {
      "metadata": {
        "id": "syuZtL3oSK4k",
        "colab_type": "text"
      },
      "cell_type": "markdown",
      "source": [
        "### Define seed"
      ]
    },
    {
      "metadata": {
        "id": "5lBZbvRvSPQZ",
        "colab_type": "code",
        "colab": {}
      },
      "cell_type": "code",
      "source": [
        "seed = 15\n",
        "np.random.seed(seed)\n",
        "torch.manual_seed(seed)\n",
        "torch.cuda.manual_seed(seed)\n",
        "torch.backends.cudnn.deterministic=True"
      ],
      "execution_count": 0,
      "outputs": []
    },
    {
      "metadata": {
        "id": "Re78HZWgPWGA",
        "colab_type": "text"
      },
      "cell_type": "markdown",
      "source": [
        "### Load and normalize MNIST"
      ]
    },
    {
      "metadata": {
        "id": "q4JSeFP_QAut",
        "colab_type": "text"
      },
      "cell_type": "markdown",
      "source": [
        "The output of torchvision datasets are [PIL image](https://en.wikipedia.org/wiki/Python_Imaging_Library) images of range [0, 1]. We transform them to Tensors of normalized range [-1, 1]."
      ]
    },
    {
      "metadata": {
        "id": "dbDeIm6jFbia",
        "colab_type": "code",
        "colab": {}
      },
      "cell_type": "code",
      "source": [
        "transform = transforms.Compose([transforms.ToTensor(),\n",
        "                                transforms.Normalize((0.5,), (0.5,))\n",
        "                              ])"
      ],
      "execution_count": 0,
      "outputs": []
    },
    {
      "metadata": {
        "id": "dwiQUeJsQwQz",
        "colab_type": "code",
        "colab": {
          "base_uri": "https://localhost:8080/",
          "height": 54
        },
        "outputId": "30b56620-69e8-4516-86e3-00494adba6a1"
      },
      "cell_type": "code",
      "source": [
        "batch_size = 20\n",
        "n_workers = 2\n",
        "\n",
        "train_data = datasets.MNIST(root='./data', train=True,\n",
        "                            download=True, transform=transform)\n",
        "\n",
        "print('Size train dataset: ', len(train_data))\n",
        "\n",
        "train_loader = DataLoader(train_data, batch_size=batch_size,\n",
        "                          shuffle=True, num_workers=n_workers)\n",
        "\n",
        "\n",
        "test_data = datasets.MNIST(root='./data', train=False,\n",
        "                           download=True, transform=transform)\n",
        "\n",
        "print('Size test dataset: ', len(test_data))\n",
        "\n",
        "test_loader = DataLoader(test_data, batch_size=batch_size,\n",
        "                         shuffle=False, num_workers=n_workers)"
      ],
      "execution_count": 7,
      "outputs": [
        {
          "output_type": "stream",
          "text": [
            "Size train dataset:  60000\n",
            "Size test dataset:  10000\n"
          ],
          "name": "stdout"
        }
      ]
    },
    {
      "metadata": {
        "id": "Qm12wKQpQNdF",
        "colab_type": "text"
      },
      "cell_type": "markdown",
      "source": [
        "### Visualize some images"
      ]
    },
    {
      "metadata": {
        "id": "CilRzMlcZp1C",
        "colab_type": "code",
        "colab": {}
      },
      "cell_type": "code",
      "source": [
        "def imshow(img_tensor):\n",
        "  \"\"\"\n",
        "  function to show an image\n",
        "  \"\"\"\n",
        "  img_tensor = img_tensor / 2 + 0.5     # unnormalize\n",
        "  img_numpy = img_tensor.numpy()        # from tensor to numpy\n",
        "  plt.imshow(np.transpose(img_numpy, (1, 2, 0)))\n",
        "  plt.show()"
      ],
      "execution_count": 0,
      "outputs": []
    },
    {
      "metadata": {
        "id": "ppkGKvj0cXnK",
        "colab_type": "text"
      },
      "cell_type": "markdown",
      "source": [
        "Get one batch of training images."
      ]
    },
    {
      "metadata": {
        "id": "wwJtVGAUcLh9",
        "colab_type": "code",
        "outputId": "09d46d7c-e044-4c85-d3a5-ea42bbe8768b",
        "colab": {
          "base_uri": "https://localhost:8080/",
          "height": 35
        }
      },
      "cell_type": "code",
      "source": [
        "data_iter = iter(train_loader)\n",
        "images, labels = data_iter.next()\n",
        "print('(batch size, channels, height, width) ', images.shape)"
      ],
      "execution_count": 9,
      "outputs": [
        {
          "output_type": "stream",
          "text": [
            "(batch size, channels, height, width)  torch.Size([20, 1, 28, 28])\n"
          ],
          "name": "stdout"
        }
      ]
    },
    {
      "metadata": {
        "id": "CzTymAlYel7q",
        "colab_type": "code",
        "outputId": "6062a548-9d93-4a3e-ba7b-37387341963d",
        "colab": {
          "base_uri": "https://localhost:8080/",
          "height": 120
        }
      },
      "cell_type": "code",
      "source": [
        "imshow(make_grid(images, nrow=10))"
      ],
      "execution_count": 10,
      "outputs": [
        {
          "output_type": "display_data",
          "data": {
            "image/png": "[encoded data removed]",
            "text/plain": [
              "<Figure size 432x288 with 1 Axes>"
            ]
          },
          "metadata": {
            "tags": []
          }
        }
      ]
    },
    {
      "metadata": {
        "id": "Pu_y40n_saS7",
        "colab_type": "text"
      },
      "cell_type": "markdown",
      "source": [
        "### Define the network architecture"
      ]
    },
    {
      "metadata": {
        "id": "QhtFKJPevhdx",
        "colab_type": "text"
      },
      "cell_type": "markdown",
      "source": [
        "<img src=\"https://raw.githubusercontent.com/floydhub/mnist/master/images/mnist_convet.png\">"
      ]
    },
    {
      "metadata": {
        "id": "E3EvP_o84gh2",
        "colab_type": "text"
      },
      "cell_type": "markdown",
      "source": [
        "How to calculate output size?\n",
        "\n",
        "$outup\\_size = \\dfrac{(input\\_size - kernel\\_size +2 * padding\\_size)}{stride\\_size} + 1$"
      ]
    },
    {
      "metadata": {
        "id": "G3JilNXSsZzx",
        "colab_type": "code",
        "colab": {}
      },
      "cell_type": "code",
      "source": [
        "class ConvNet(nn.Module):\n",
        "  \n",
        "  def __init__(self):\n",
        "    super(ConvNet, self).__init__()\n",
        "    self.layer1 = nn.Sequential(\n",
        "        nn.Conv2d(in_channels=1, out_channels=10, kernel_size=5, stride=1),\n",
        "        nn.ReLU(),\n",
        "        nn.MaxPool2d(kernel_size=5, stride=2))\n",
        "\n",
        "    self.layer2 = nn.Sequential(\n",
        "        nn.Conv2d(in_channels=10, out_channels=20, kernel_size=3, stride=1),\n",
        "        nn.ReLU(),\n",
        "        nn.MaxPool2d(kernel_size=2, stride=2))\n",
        "\n",
        "    self.fc1 = nn.Linear(20*4*4, 50)\n",
        "    self.fc2 = nn.Linear(50, 10)\n",
        "    self.dropout = nn.Dropout(0.6)\n",
        "\n",
        "  def forward(self, x):\n",
        "    x = self.layer1(x)\n",
        "    x = self.layer2(x)\n",
        "    x = x.view(-1, 20*4*4)\n",
        "    x = F.relu(self.fc1(x))\n",
        "    x = self.dropout(x)\n",
        "    x = self.fc2(x)\n",
        "\n",
        "    return x"
      ],
      "execution_count": 0,
      "outputs": []
    },
    {
      "metadata": {
        "id": "vQUG6SQP_SBG",
        "colab_type": "code",
        "outputId": "b7d4d8b6-4d84-4954-aa17-db55da75cb32",
        "colab": {
          "base_uri": "https://localhost:8080/",
          "height": 290
        }
      },
      "cell_type": "code",
      "source": [
        "model = ConvNet().to(device)\n",
        "print(model)"
      ],
      "execution_count": 12,
      "outputs": [
        {
          "output_type": "stream",
          "text": [
            "ConvNet(\n",
            "  (layer1): Sequential(\n",
            "    (0): Conv2d(1, 10, kernel_size=(5, 5), stride=(1, 1))\n",
            "    (1): ReLU()\n",
            "    (2): MaxPool2d(kernel_size=5, stride=2, padding=0, dilation=1, ceil_mode=False)\n",
            "  )\n",
            "  (layer2): Sequential(\n",
            "    (0): Conv2d(10, 20, kernel_size=(3, 3), stride=(1, 1))\n",
            "    (1): ReLU()\n",
            "    (2): MaxPool2d(kernel_size=2, stride=2, padding=0, dilation=1, ceil_mode=False)\n",
            "  )\n",
            "  (fc1): Linear(in_features=320, out_features=50, bias=True)\n",
            "  (fc2): Linear(in_features=50, out_features=10, bias=True)\n",
            "  (dropout): Dropout(p=0.6)\n",
            ")\n"
          ],
          "name": "stdout"
        }
      ]
    },
    {
      "metadata": {
        "id": "0sPQHaN5CoQc",
        "colab_type": "text"
      },
      "cell_type": "markdown",
      "source": [
        "### Define a Loss function and optimizer"
      ]
    },
    {
      "metadata": {
        "id": "kHunvVCuEsGU",
        "colab_type": "text"
      },
      "cell_type": "markdown",
      "source": [
        "The `nn.CrossEntropyLoss` criterion combines `nn.LogSoftmax()` and `nn.NLLLoss()` in one single class."
      ]
    },
    {
      "metadata": {
        "id": "Oon-Pht85YkV",
        "colab_type": "code",
        "colab": {}
      },
      "cell_type": "code",
      "source": [
        "criterion = nn.CrossEntropyLoss()\n",
        "optimizer = optim.SGD(model.parameters(), lr=0.001)"
      ],
      "execution_count": 0,
      "outputs": []
    },
    {
      "metadata": {
        "id": "A0C-JpjiFQvV",
        "colab_type": "text"
      },
      "cell_type": "markdown",
      "source": [
        "### Train the network"
      ]
    },
    {
      "metadata": {
        "id": "tp420WmgF8Wn",
        "colab_type": "text"
      },
      "cell_type": "markdown",
      "source": [
        "When we create a network with PyTorch, all of the parameters are initialized with   `requires_grad = True`. This means that when we calculate the loss and call `loss.backward()` , the gradients for the parameters are calculated. These gradients are used to update the weights with gradient descent."
      ]
    },
    {
      "metadata": {
        "id": "weN3TnkyIUWd",
        "colab_type": "code",
        "colab": {}
      },
      "cell_type": "code",
      "source": [
        "def train(model, optimizer, criterion, data_loader):\n",
        "  loss = 0.0\n",
        "  model.train() # prepare model for training\n",
        "  \n",
        "  for inputs, labels in data_loader:\n",
        "    inputs, labels = inputs.to(device), labels.to(device)\n",
        "    \n",
        "    # clear the gradients\n",
        "    optimizer.zero_grad()\n",
        "\n",
        "    # forward pass: compute predicted outputs\n",
        "    output = model(inputs)\n",
        "\n",
        "    # calculate the loss\n",
        "    loss = criterion(output, labels)\n",
        "\n",
        "    # backward pass: compute gradient\n",
        "    loss.backward()\n",
        "\n",
        "    # perform a optimization step (weight update)\n",
        "    optimizer.step()\n",
        "\n",
        "    # update running training loss\n",
        "    loss += loss.item()\n",
        "    \n",
        "  return loss\n"
      ],
      "execution_count": 0,
      "outputs": []
    },
    {
      "metadata": {
        "id": "oBy8FEWbFPvw",
        "colab_type": "code",
        "outputId": "2e44218b-9527-4762-e437-a7ffca5ee096",
        "colab": {
          "base_uri": "https://localhost:8080/",
          "height": 145
        }
      },
      "cell_type": "code",
      "source": [
        "%%time\n",
        "n_epochs = 5\n",
        "for epoch in range(n_epochs):\n",
        "  train_loss = train(model, optimizer, criterion, train_loader)\n",
        "\n",
        "  # calculate average loss over an epoch\n",
        "  train_loss = train_loss/len(train_loader)\n",
        "\n",
        "  print('Epoch: {} \\tTraining Loss: {:.6f}'.format(epoch+1, train_loss))"
      ],
      "execution_count": 15,
      "outputs": [
        {
          "output_type": "stream",
          "text": [
            "Epoch: 1 \tTraining Loss: 0.001263\n",
            "Epoch: 2 \tTraining Loss: 0.000378\n",
            "Epoch: 3 \tTraining Loss: 0.000194\n",
            "Epoch: 4 \tTraining Loss: 0.000509\n",
            "Epoch: 5 \tTraining Loss: 0.000200\n",
            "CPU times: user 1min 15s, sys: 19.9 s, total: 1min 35s\n",
            "Wall time: 1min 57s\n"
          ],
          "name": "stdout"
        }
      ]
    },
    {
      "metadata": {
        "id": "_d5OXk1oLaz5",
        "colab_type": "text"
      },
      "cell_type": "markdown",
      "source": [
        "### Test the network"
      ]
    },
    {
      "metadata": {
        "id": "RJzhMTSoLdy2",
        "colab_type": "code",
        "outputId": "ff83abd7-7bc4-47f6-a88b-425f2422c162",
        "colab": {
          "base_uri": "https://localhost:8080/",
          "height": 35
        }
      },
      "cell_type": "code",
      "source": [
        "model.eval()  # prepare model for evaluation\n",
        "with torch.no_grad():\n",
        "  correct = 0.0\n",
        "  total = 0.0\n",
        "  for inputs, labels in test_loader:\n",
        "    inputs, labels = inputs.to(device), labels.to(device)\n",
        "    outputs = model(inputs)\n",
        "    _, predicted = torch.max(outputs.data, 1)\n",
        "    total += labels.size(0)\n",
        "    correct += (predicted == labels).sum().item()\n",
        "\n",
        "  print('Test Accuracy: {}%'.format(100 * correct / total))"
      ],
      "execution_count": 16,
      "outputs": [
        {
          "output_type": "stream",
          "text": [
            "Test Accuracy: 95.22%\n"
          ],
          "name": "stdout"
        }
      ]
    },
    {
      "metadata": {
        "id": "MGhjvjW6WxZS",
        "colab_type": "text"
      },
      "cell_type": "markdown",
      "source": [
        "#### Credits\n",
        "This tutorial was adapted from [Training a Classifier](https://pytorch.org/tutorials/beginner/blitz/cifar10_tutorial.html#sphx-glr-beginner-blitz-cifar10-tutorial-py) and [Multi-Layer Perceptron, MNIST](https://github.com/Bjarten/deep-learning-ND/blob/master/convolutional-neural-networks/mnist-mlp/mnist_mlp_solution.ipynb)."
      ]
    }
  ]
}