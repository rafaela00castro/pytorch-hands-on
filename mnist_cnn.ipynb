{
  "nbformat": 4,
  "nbformat_minor": 0,
  "metadata": {
    "colab": {
      "name": "mnist_cnn.ipynb",
      "provenance": [],
      "collapsed_sections": [],
      "include_colab_link": true
    },
    "kernelspec": {
      "name": "python3",
      "display_name": "Python 3"
    },
    "accelerator": "GPU"
  },
  "cells": [
    {
      "cell_type": "markdown",
      "metadata": {
        "id": "view-in-github",
        "colab_type": "text"
      },
      "source": [
        "<a href=\"https://colab.research.google.com/github/rafaela00castro/pytorch-hands-on/blob/master/mnist_cnn.ipynb\" target=\"_parent\"><img src=\"https://colab.research.google.com/assets/colab-badge.svg\" alt=\"Open In Colab\"/></a>"
      ]
    },
    {
      "cell_type": "markdown",
      "metadata": {
        "id": "YXx7qGH1_m8X"
      },
      "source": [
        "# Hands-on PyTorch\n",
        "\n"
      ]
    },
    {
      "cell_type": "markdown",
      "metadata": {
        "id": "sVF3f5sdAdMa"
      },
      "source": [
        "> ### Machine Learning course / PPCIC @ CEFET-RJ \n",
        "> Rafaela Castro  (<rafaela.nascimento@eic.cefet-rj.br>)\n",
        "\n",
        "---\n"
      ]
    },
    {
      "cell_type": "markdown",
      "metadata": {
        "id": "vsPuFfY5Bk7l"
      },
      "source": [
        "## Image classification with Convolutional Neural Networks (CNN)"
      ]
    },
    {
      "cell_type": "markdown",
      "metadata": {
        "id": "Ka7_bCb8B3aJ"
      },
      "source": [
        "We will train a CNN to classify images from MNIST dataset, which is a hand-written digit dataset. The images are of size 1x32x32, i.e. 1-channel grey levels images."
      ]
    },
    {
      "cell_type": "markdown",
      "metadata": {
        "id": "nBQbts5NTCVV"
      },
      "source": [
        "First of all, let's check the configuration of Colab's processor."
      ]
    },
    {
      "cell_type": "code",
      "metadata": {
        "id": "3EPevvl7SRn8",
        "outputId": "718e3c36-2f47-4a63-8993-7efddda98f9a",
        "colab": {
          "base_uri": "https://localhost:8080/",
          "height": 445
        }
      },
      "source": [
        "!lscpu # cpu"
      ],
      "execution_count": 1,
      "outputs": [
        {
          "output_type": "stream",
          "text": [
            "Architecture:        x86_64\n",
            "CPU op-mode(s):      32-bit, 64-bit\n",
            "Byte Order:          Little Endian\n",
            "CPU(s):              2\n",
            "On-line CPU(s) list: 0,1\n",
            "Thread(s) per core:  2\n",
            "Core(s) per socket:  1\n",
            "Socket(s):           1\n",
            "NUMA node(s):        1\n",
            "Vendor ID:           GenuineIntel\n",
            "CPU family:          6\n",
            "Model:               79\n",
            "Model name:          Intel(R) Xeon(R) CPU @ 2.20GHz\n",
            "Stepping:            0\n",
            "CPU MHz:             2200.000\n",
            "BogoMIPS:            4400.00\n",
            "Hypervisor vendor:   KVM\n",
            "Virtualization type: full\n",
            "L1d cache:           32K\n",
            "L1i cache:           32K\n",
            "L2 cache:            256K\n",
            "L3 cache:            56320K\n",
            "NUMA node0 CPU(s):   0,1\n",
            "Flags:               fpu vme de pse tsc msr pae mce cx8 apic sep mtrr pge mca cmov pat pse36 clflush mmx fxsr sse sse2 ss ht syscall nx pdpe1gb rdtscp lm constant_tsc rep_good nopl xtopology nonstop_tsc cpuid tsc_known_freq pni pclmulqdq ssse3 fma cx16 pcid sse4_1 sse4_2 x2apic movbe popcnt aes xsave avx f16c rdrand hypervisor lahf_lm abm 3dnowprefetch invpcid_single ssbd ibrs ibpb stibp fsgsbase tsc_adjust bmi1 hle avx2 smep bmi2 erms invpcid rtm rdseed adx smap xsaveopt arat md_clear arch_capabilities\n"
          ],
          "name": "stdout"
        }
      ]
    },
    {
      "cell_type": "code",
      "metadata": {
        "id": "nqbaOBht4Ndu",
        "outputId": "e9f11005-af3e-47e5-d996-2035262f4a5f",
        "colab": {
          "base_uri": "https://localhost:8080/",
          "height": 357
        }
      },
      "source": [
        "!nvidia-smi # gpu"
      ],
      "execution_count": 2,
      "outputs": [
        {
          "output_type": "stream",
          "text": [
            "Tue Oct 13 00:31:45 2020       \n",
            "+-----------------------------------------------------------------------------+\n",
            "| NVIDIA-SMI 455.23.05    Driver Version: 418.67       CUDA Version: 10.1     |\n",
            "|-------------------------------+----------------------+----------------------+\n",
            "| GPU  Name        Persistence-M| Bus-Id        Disp.A | Volatile Uncorr. ECC |\n",
            "| Fan  Temp  Perf  Pwr:Usage/Cap|         Memory-Usage | GPU-Util  Compute M. |\n",
            "|                               |                      |               MIG M. |\n",
            "|===============================+======================+======================|\n",
            "|   0  Tesla T4            Off  | 00000000:00:04.0 Off |                    0 |\n",
            "| N/A   45C    P8     9W /  70W |      0MiB / 15079MiB |      0%      Default |\n",
            "|                               |                      |                 ERR! |\n",
            "+-------------------------------+----------------------+----------------------+\n",
            "                                                                               \n",
            "+-----------------------------------------------------------------------------+\n",
            "| Processes:                                                                  |\n",
            "|  GPU   GI   CI        PID   Type   Process name                  GPU Memory |\n",
            "|        ID   ID                                                   Usage      |\n",
            "|=============================================================================|\n",
            "|  No running processes found                                                 |\n",
            "+-----------------------------------------------------------------------------+\n"
          ],
          "name": "stdout"
        }
      ]
    },
    {
      "cell_type": "markdown",
      "metadata": {
        "id": "7lL-EJUzFQaG"
      },
      "source": [
        "### Install Pytorch\n",
        "\n",
        "Since January/19, Colab supports PyTorch natively. So, you do not need to run the code below.\n",
        "\n",
        "`!pip install torch torchvision`"
      ]
    },
    {
      "cell_type": "markdown",
      "metadata": {
        "id": "gwsuldwpDwoB"
      },
      "source": [
        "### Import libraries"
      ]
    },
    {
      "cell_type": "code",
      "metadata": {
        "id": "JjGLBbd5D4hW"
      },
      "source": [
        "import numpy as np\n",
        "import matplotlib.pyplot as plt\n",
        "\n",
        "import torch\n",
        "import torch.nn as nn\n",
        "import torch.nn.functional as F\n",
        "import torch.optim as optim\n",
        "from torch.utils.data import random_split, DataLoader\n",
        "\n",
        "from torchvision import datasets, transforms\n",
        "from torchvision.utils import make_grid\n",
        "\n",
        "%matplotlib inline"
      ],
      "execution_count": 3,
      "outputs": []
    },
    {
      "cell_type": "markdown",
      "metadata": {
        "id": "rldQVQfw_eS7"
      },
      "source": [
        "### Device configuration"
      ]
    },
    {
      "cell_type": "code",
      "metadata": {
        "id": "hogdEIza_gbK"
      },
      "source": [
        "device = torch.device('cuda:0' if torch.cuda.is_available() else 'cpu')"
      ],
      "execution_count": 4,
      "outputs": []
    },
    {
      "cell_type": "markdown",
      "metadata": {
        "id": "syuZtL3oSK4k"
      },
      "source": [
        "### Define the seed"
      ]
    },
    {
      "cell_type": "code",
      "metadata": {
        "id": "5lBZbvRvSPQZ"
      },
      "source": [
        "seed = 15\n",
        "np.random.seed(seed)\n",
        "torch.manual_seed(seed)\n",
        "torch.cuda.manual_seed(seed)\n",
        "torch.backends.cudnn.deterministic=True"
      ],
      "execution_count": 5,
      "outputs": []
    },
    {
      "cell_type": "markdown",
      "metadata": {
        "id": "Re78HZWgPWGA"
      },
      "source": [
        "### Load the MNIST dataset"
      ]
    },
    {
      "cell_type": "markdown",
      "metadata": {
        "id": "q4JSeFP_QAut"
      },
      "source": [
        "Specifically for computer vision, PyTorch has a package called torchvision, that has data loaders for common datasets such as Imagenet, CIFAR10, MNIST, etc. and data transformers for images, viz.\n",
        "\n",
        "The output of torchvision datasets are [PIL image](https://en.wikipedia.org/wiki/Python_Imaging_Library) images of range [0, 1]. We transform them to Tensors of normalized range [-1, 1]."
      ]
    },
    {
      "cell_type": "code",
      "metadata": {
        "id": "dbDeIm6jFbia"
      },
      "source": [
        "transform = transforms.Compose([transforms.ToTensor(),\n",
        "                                transforms.Normalize((0.5,), (0.5,))\n",
        "                              ])"
      ],
      "execution_count": 6,
      "outputs": []
    },
    {
      "cell_type": "markdown",
      "metadata": {
        "id": "GVOHHnUsllNd"
      },
      "source": [
        "**Training dataset**: The model learns from this dataset's examples. It fits a parameter to a classifier.\n",
        "\n",
        "**Validation dataset**: The examples in the validation dataset are used to tune the hyperparameters, such as learning rate and epochs. The aim of creating a validation set is to avoid large overfitting of the model.\n",
        "\n",
        "**Test dataset**: This dataset test the final evolution of the model, measuring how well it has learned and predicted the desired output. It contains unseen data."
      ]
    },
    {
      "cell_type": "code",
      "metadata": {
        "id": "dwiQUeJsQwQz",
        "outputId": "10b74f26-e58e-435d-a1f2-b1a884bf9b43",
        "colab": {
          "base_uri": "https://localhost:8080/",
          "height": 85
        }
      },
      "source": [
        "batch_size = 20\n",
        "num_workers = 4\n",
        "\n",
        "full_train_dataset = datasets.MNIST(root='./data', train=True,\n",
        "                            download=True, transform=transform)\n",
        "\n",
        "test_data = datasets.MNIST(root='./data', train=False,\n",
        "                           download=True, transform=transform)\n",
        "\n",
        "train_data, val_data = random_split(full_train_dataset, [50000, 10000])\n",
        "\n",
        "\n",
        "train_loader = DataLoader(train_data, batch_size=batch_size,\n",
        "                          shuffle=True, num_workers=num_workers)\n",
        "\n",
        "val_loader = DataLoader(val_data, batch_size=batch_size,\n",
        "                          shuffle=False, num_workers=num_workers)\n",
        "\n",
        "test_loader = DataLoader(test_data, batch_size=batch_size,\n",
        "                         shuffle=False, num_workers=num_workers)\n",
        "\n",
        "print('Size of full training dataset: ', len(train_data))\n",
        "print('Size of training dataset: ', len(train_data))\n",
        "print('Size of valitation dataset: ', len(val_data))\n",
        "print('Size of test dataset: ', len(test_data))"
      ],
      "execution_count": 7,
      "outputs": [
        {
          "output_type": "stream",
          "text": [
            "Size of full training dataset:  50000\n",
            "Size of training dataset:  50000\n",
            "Size of valitation dataset:  10000\n",
            "Size of test dataset:  10000\n"
          ],
          "name": "stdout"
        }
      ]
    },
    {
      "cell_type": "markdown",
      "metadata": {
        "id": "s4Zo9vIeQtim"
      },
      "source": [
        "#### Ways to load your data into Colab"
      ]
    },
    {
      "cell_type": "markdown",
      "metadata": {
        "id": "310dAfrCQ0R_"
      },
      "source": [
        "If you have a dataset in CSV format, follow [this tutorial](https://towardsdatascience.com/3-ways-to-load-csv-files-into-colab-7c14fcbdcb92)."
      ]
    },
    {
      "cell_type": "markdown",
      "metadata": {
        "id": "Qm12wKQpQNdF"
      },
      "source": [
        "### Visualize some images"
      ]
    },
    {
      "cell_type": "code",
      "metadata": {
        "id": "CilRzMlcZp1C"
      },
      "source": [
        "def imshow(img_tensor):\n",
        "  \"\"\"\n",
        "  function to show an image\n",
        "  \"\"\"\n",
        "  img_tensor = img_tensor / 2 + 0.5     # unnormalize\n",
        "  img_numpy = img_tensor.numpy()        # from tensor to numpy\n",
        "  plt.imshow(np.transpose(img_numpy, (1, 2, 0)))\n",
        "  plt.show()"
      ],
      "execution_count": 8,
      "outputs": []
    },
    {
      "cell_type": "markdown",
      "metadata": {
        "id": "ppkGKvj0cXnK"
      },
      "source": [
        "Get one batch of training images."
      ]
    },
    {
      "cell_type": "code",
      "metadata": {
        "id": "wwJtVGAUcLh9",
        "outputId": "80cd7d5c-e16f-4e41-fbde-bebedcab1f3d",
        "colab": {
          "base_uri": "https://localhost:8080/",
          "height": 34
        }
      },
      "source": [
        "data_iter = iter(train_loader)\n",
        "images, labels = data_iter.next()\n",
        "print('(batch size, channels, height, width) ', images.shape)"
      ],
      "execution_count": 9,
      "outputs": [
        {
          "output_type": "stream",
          "text": [
            "(batch size, channels, height, width)  torch.Size([20, 1, 28, 28])\n"
          ],
          "name": "stdout"
        }
      ]
    },
    {
      "cell_type": "code",
      "metadata": {
        "id": "CzTymAlYel7q",
        "outputId": "eab924b5-7432-4b7c-fbda-4e6f45530407",
        "colab": {
          "base_uri": "https://localhost:8080/",
          "height": 154
        }
      },
      "source": [
        "imshow(make_grid(images, nrow=10))\n",
        "print('LABELS\\n', labels)"
      ],
      "execution_count": 10,
      "outputs": [
        {
          "output_type": "display_data",
          "data": {
            "image/png": "[encoded data removed]",
            "text/plain": [
              "<Figure size 432x288 with 1 Axes>"
            ]
          },
          "metadata": {
            "tags": [],
            "needs_background": "light"
          }
        },
        {
          "output_type": "stream",
          "text": [
            "LABELS\n",
            " tensor([4, 4, 9, 1, 6, 7, 7, 4, 7, 1, 6, 4, 1, 9, 6, 7, 2, 4, 2, 4])\n"
          ],
          "name": "stdout"
        }
      ]
    },
    {
      "cell_type": "markdown",
      "metadata": {
        "id": "Pu_y40n_saS7"
      },
      "source": [
        "### Define the CNN architecture\n",
        "\n",
        "\n",
        "\n",
        "\n"
      ]
    },
    {
      "cell_type": "markdown",
      "metadata": {
        "id": "QhtFKJPevhdx"
      },
      "source": [
        "<img src=\"https://raw.githubusercontent.com/floydhub/mnist/master/images/mnist_convet.png\">"
      ]
    },
    {
      "cell_type": "markdown",
      "metadata": {
        "id": "E3EvP_o84gh2"
      },
      "source": [
        "How to calculate output size?\n",
        "\n",
        "$outup\\_size = \\dfrac{(input\\_size - kernel\\_size +2 * padding)}{stride} + 1$"
      ]
    },
    {
      "cell_type": "code",
      "metadata": {
        "id": "G3JilNXSsZzx"
      },
      "source": [
        "class ConvNet(nn.Module):\n",
        "  \n",
        "  def __init__(self):\n",
        "    super(ConvNet, self).__init__()\n",
        "    self.layer1 = nn.Sequential(\n",
        "        nn.Conv2d(in_channels=1, out_channels=10, kernel_size=5, stride=1),\n",
        "        nn.ReLU(),\n",
        "        nn.MaxPool2d(kernel_size=5, stride=2))\n",
        "\n",
        "    self.layer2 = nn.Sequential(\n",
        "        nn.Conv2d(in_channels=10, out_channels=20, kernel_size=3, stride=1),\n",
        "        nn.ReLU(),\n",
        "        nn.MaxPool2d(kernel_size=2, stride=2))\n",
        "\n",
        "    self.fc1 = nn.Linear(20*4*4, 50)\n",
        "    self.fc2 = nn.Linear(50, 10)\n",
        "    self.dropout = nn.Dropout(0.2)\n",
        "\n",
        "  def forward(self, x):\n",
        "    x = self.layer1(x)\n",
        "    x = self.layer2(x)\n",
        "    x = x.view(-1, 20*4*4) # Flatten layer\n",
        "    x = F.relu(self.fc1(x))\n",
        "    x = self.dropout(x)\n",
        "    x = self.fc2(x)\n",
        "\n",
        "    return x"
      ],
      "execution_count": 11,
      "outputs": []
    },
    {
      "cell_type": "code",
      "metadata": {
        "id": "vQUG6SQP_SBG",
        "outputId": "8f20f900-53d2-4330-ae15-2ffc17969cff",
        "colab": {
          "base_uri": "https://localhost:8080/",
          "height": 272
        }
      },
      "source": [
        "model = ConvNet().to(device)\n",
        "print(model)"
      ],
      "execution_count": 12,
      "outputs": [
        {
          "output_type": "stream",
          "text": [
            "ConvNet(\n",
            "  (layer1): Sequential(\n",
            "    (0): Conv2d(1, 10, kernel_size=(5, 5), stride=(1, 1))\n",
            "    (1): ReLU()\n",
            "    (2): MaxPool2d(kernel_size=5, stride=2, padding=0, dilation=1, ceil_mode=False)\n",
            "  )\n",
            "  (layer2): Sequential(\n",
            "    (0): Conv2d(10, 20, kernel_size=(3, 3), stride=(1, 1))\n",
            "    (1): ReLU()\n",
            "    (2): MaxPool2d(kernel_size=2, stride=2, padding=0, dilation=1, ceil_mode=False)\n",
            "  )\n",
            "  (fc1): Linear(in_features=320, out_features=50, bias=True)\n",
            "  (fc2): Linear(in_features=50, out_features=10, bias=True)\n",
            "  (dropout): Dropout(p=0.2, inplace=False)\n",
            ")\n"
          ],
          "name": "stdout"
        }
      ]
    },
    {
      "cell_type": "markdown",
      "metadata": {
        "id": "0sPQHaN5CoQc"
      },
      "source": [
        "### Define a Loss function and optimizer"
      ]
    },
    {
      "cell_type": "markdown",
      "metadata": {
        "id": "kHunvVCuEsGU"
      },
      "source": [
        "The `nn.CrossEntropyLoss` criterion combines `nn.LogSoftmax()` and `nn.NLLLoss()` in one single class."
      ]
    },
    {
      "cell_type": "code",
      "metadata": {
        "id": "Oon-Pht85YkV"
      },
      "source": [
        "criterion = nn.CrossEntropyLoss()\n",
        "optimizer = optim.SGD(model.parameters(), lr=0.001)"
      ],
      "execution_count": 13,
      "outputs": []
    },
    {
      "cell_type": "markdown",
      "metadata": {
        "id": "A0C-JpjiFQvV"
      },
      "source": [
        "### Train the network"
      ]
    },
    {
      "cell_type": "markdown",
      "metadata": {
        "id": "tp420WmgF8Wn"
      },
      "source": [
        "When we create a network with PyTorch, all of the parameters are initialized with   `requires_grad = True`. This means that when we calculate the loss and call `loss.backward()` , the gradients for the parameters are calculated. These gradients are used to update the weights with gradient descent."
      ]
    },
    {
      "cell_type": "code",
      "metadata": {
        "id": "JCv3GS78soEc",
        "outputId": "25f2540d-439d-4a0c-b760-c586160efb06",
        "colab": {
          "base_uri": "https://localhost:8080/",
          "height": 306
        }
      },
      "source": [
        "%%time\n",
        "num_epochs = 15\n",
        "train_losses, val_losses = [], []\n",
        "\n",
        "for epoch in range(1, num_epochs + 1):\n",
        "    train_loss, val_loss = 0.0, 0.0\n",
        "\n",
        "    model.train() # prepare model for training\n",
        "    for inputs, labels in train_loader:\n",
        "        inputs, labels = inputs.to(device), labels.to(device)\n",
        "\n",
        "        # clear the gradients\n",
        "        optimizer.zero_grad()\n",
        "        # forward pass: compute predicted outputs\n",
        "        output = model(inputs)\n",
        "        # calculate the loss\n",
        "        loss = criterion(output, labels)\n",
        "        # backward pass: compute gradient\n",
        "        loss.backward()\n",
        "        # perform a optimization step (weight update)\n",
        "        optimizer.step()\n",
        "        # update running training loss\n",
        "        train_loss += loss.item()\n",
        "        \n",
        "    model.eval() # validate the model\n",
        "    with torch.no_grad():\n",
        "        for inputs, labels in val_loader:\n",
        "            inputs, labels = inputs.to(device), labels.to(device)\n",
        "            output = model(inputs)\n",
        "            loss = criterion(output, labels)\n",
        "            val_loss += loss.item()\n",
        "    \n",
        "    # calculate average loss over an epoch\n",
        "    train_loss = train_loss/len(train_loader)\n",
        "    val_loss = val_loss/len(val_loader)\n",
        "    train_losses.append(train_loss)\n",
        "    val_losses.append(val_loss)\n",
        "\n",
        "    print('Epoch: {} \\tTraining Loss: {:.6f} \\tValidation Loss: {:.6f}'.format(\n",
        "        epoch, train_loss, val_loss))"
      ],
      "execution_count": 14,
      "outputs": [
        {
          "output_type": "stream",
          "text": [
            "Epoch: 1 \tTraining Loss: 2.276344 \tValidation Loss: 2.237065\n",
            "Epoch: 2 \tTraining Loss: 1.985968 \tValidation Loss: 1.308890\n",
            "Epoch: 3 \tTraining Loss: 0.784334 \tValidation Loss: 0.360674\n",
            "Epoch: 4 \tTraining Loss: 0.396251 \tValidation Loss: 0.235864\n",
            "Epoch: 5 \tTraining Loss: 0.295536 \tValidation Loss: 0.186640\n",
            "Epoch: 6 \tTraining Loss: 0.243441 \tValidation Loss: 0.160849\n",
            "Epoch: 7 \tTraining Loss: 0.213572 \tValidation Loss: 0.144440\n",
            "Epoch: 8 \tTraining Loss: 0.191259 \tValidation Loss: 0.131539\n",
            "Epoch: 9 \tTraining Loss: 0.173299 \tValidation Loss: 0.121520\n",
            "Epoch: 10 \tTraining Loss: 0.159932 \tValidation Loss: 0.112795\n",
            "Epoch: 11 \tTraining Loss: 0.149412 \tValidation Loss: 0.106480\n",
            "Epoch: 12 \tTraining Loss: 0.143036 \tValidation Loss: 0.102331\n",
            "Epoch: 13 \tTraining Loss: 0.132401 \tValidation Loss: 0.097587\n",
            "Epoch: 14 \tTraining Loss: 0.128335 \tValidation Loss: 0.092003\n",
            "Epoch: 15 \tTraining Loss: 0.122052 \tValidation Loss: 0.088964\n",
            "CPU times: user 2min 10s, sys: 21.6 s, total: 2min 31s\n",
            "Wall time: 3min 56s\n"
          ],
          "name": "stdout"
        }
      ]
    },
    {
      "cell_type": "markdown",
      "metadata": {
        "id": "9tMszykV-i5J"
      },
      "source": [
        "### Learning curve"
      ]
    },
    {
      "cell_type": "markdown",
      "metadata": {
        "id": "CMrPPNK_UIrZ"
      },
      "source": [
        "Using a learning curve can help improve the performance of the model by tracking the loss of the training and validation dataset. We can get an idea of how well the model can generalize to new data. The example bellow shows that the model is overfitting.\n",
        "\n",
        "<img src=\"https://www.baeldung.com/wp-content/uploads/sites/4/2020/07/overfitting_lc.png\">"
      ]
    },
    {
      "cell_type": "code",
      "metadata": {
        "id": "Ft-D8W5jx5vM",
        "outputId": "acd1cacf-903f-4d1c-e079-fe9a0eb5db4c",
        "colab": {
          "base_uri": "https://localhost:8080/",
          "height": 388
        }
      },
      "source": [
        "x_values = list(range(1,16))\n",
        "plt.figure(figsize=(8., 6.))\n",
        "plt.plot(x_values, train_losses, label='Training loss');\n",
        "plt.plot(x_values, val_losses, label='Validation loss');\n",
        "plt.xlabel(\"Epochs\");\n",
        "plt.ylabel(\"Loss\");\n",
        "plt.legend(frameon=False);"
      ],
      "execution_count": 15,
      "outputs": [
        {
          "output_type": "display_data",
          "data": {
            "image/png": "[encoded data removed]",
            "text/plain": [
              "<Figure size 576x432 with 1 Axes>"
            ]
          },
          "metadata": {
            "tags": [],
            "needs_background": "light"
          }
        }
      ]
    },
    {
      "cell_type": "markdown",
      "metadata": {
        "id": "_d5OXk1oLaz5"
      },
      "source": [
        "### Test the network on the test data"
      ]
    },
    {
      "cell_type": "code",
      "metadata": {
        "id": "RJzhMTSoLdy2",
        "outputId": "0e93d12f-acb3-46c7-953b-82760852cc8c",
        "colab": {
          "base_uri": "https://localhost:8080/",
          "height": 34
        }
      },
      "source": [
        "model.eval()  # prepare model for evaluation\n",
        "with torch.no_grad():\n",
        "    correct, total = 0.0, 0.0\n",
        "    for inputs, labels in test_loader:\n",
        "        inputs, labels = inputs.to(device), labels.to(device)\n",
        "        outputs = model(inputs)\n",
        "        _, predicted = torch.max(outputs.data, 1)\n",
        "        total += labels.size(0)\n",
        "        correct += (predicted == labels).sum().item()\n",
        "\n",
        "print('Test Accuracy: {}%'.format(100 * correct / total))"
      ],
      "execution_count": 16,
      "outputs": [
        {
          "output_type": "stream",
          "text": [
            "Test Accuracy: 97.59%\n"
          ],
          "name": "stdout"
        }
      ]
    },
    {
      "cell_type": "markdown",
      "metadata": {
        "id": "MGhjvjW6WxZS"
      },
      "source": [
        "#### Credits\n",
        "This tutorial was adapted from [Training a Classifier](https://pytorch.org/tutorials/beginner/blitz/cifar10_tutorial.html#sphx-glr-beginner-blitz-cifar10-tutorial-py), [Multi-Layer Perceptron, MNIST](https://github.com/Bjarten/deep-learning-ND/blob/master/convolutional-neural-networks/mnist-mlp/mnist_mlp_solution.ipynb) and [Image Classification with PyTorch](https://www.pluralsight.com/guides/image-classification-with-pytorch)."
      ]
    }
  ]
}